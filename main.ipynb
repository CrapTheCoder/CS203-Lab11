{
 "cells": [
  {
   "cell_type": "code",
   "id": "initial_id",
   "metadata": {
    "collapsed": true,
    "ExecuteTime": {
     "end_time": "2025-04-20T13:20:36.323210Z",
     "start_time": "2025-04-20T13:20:34.849248Z"
    }
   },
   "source": [
    "import torch\n",
    "import torch.nn as nn\n",
    "import torch.optim as optim\n",
    "from torch.utils.data import DataLoader, TensorDataset\n",
    "import pandas as pd\n",
    "from sklearn.model_selection import train_test_split\n",
    "from sklearn.feature_extraction.text import CountVectorizer\n",
    "import matplotlib.pyplot as plt\n",
    "import numpy as np\n",
    "import time\n",
    "import os\n",
    "import copy\n",
    "import torch.quantization as quantization\n",
    "\n",
    "torch.manual_seed(42)\n",
    "np.random.seed(42)\n",
    "device = torch.device(\"cuda\" if torch.cuda.is_available() else \"cpu\")\n",
    "device"
   ],
   "outputs": [
    {
     "data": {
      "text/plain": [
       "device(type='cuda')"
      ]
     },
     "execution_count": 1,
     "metadata": {},
     "output_type": "execute_result"
    }
   ],
   "execution_count": 1
  },
  {
   "metadata": {
    "ExecuteTime": {
     "end_time": "2025-04-20T13:20:36.555247Z",
     "start_time": "2025-04-20T13:20:36.327004Z"
    }
   },
   "cell_type": "code",
   "source": [
    "train_url = \"https://raw.githubusercontent.com/clairett/pytorch-sentiment-classification/master/data/SST2/train.tsv\"\n",
    "test_url = \"https://raw.githubusercontent.com/clairett/pytorch-sentiment-classification/master/data/SST2/test.tsv\"\n",
    "df_train_full = pd.read_csv(train_url, sep='\\t')\n",
    "df_test = pd.read_csv(test_url, sep='\\t')\n",
    "df_train_full.columns = ['sentence', 'label']\n",
    "df_test.columns = ['sentence', 'label']\n",
    "\n",
    "df_train_full.shape, df_test.shape"
   ],
   "id": "e00afaf9fce49b2c",
   "outputs": [
    {
     "data": {
      "text/plain": [
       "((6919, 2), (1820, 2))"
      ]
     },
     "execution_count": 2,
     "metadata": {},
     "output_type": "execute_result"
    }
   ],
   "execution_count": 2
  },
  {
   "metadata": {
    "ExecuteTime": {
     "end_time": "2025-04-20T13:20:36.785297Z",
     "start_time": "2025-04-20T13:20:36.606335Z"
    }
   },
   "cell_type": "code",
   "source": [
    "df_train, df_val = train_test_split(df_train_full, test_size=0.2, random_state=42, stratify=df_train_full['label'])\n",
    "\n",
    "vectorizer = CountVectorizer(max_features=10000, binary=True)\n",
    "vec_train = vectorizer.fit_transform(df_train['sentence']).toarray()\n",
    "vec_val = vectorizer.transform(df_val['sentence']).toarray()\n",
    "vec_test = vectorizer.transform(df_test['sentence']).toarray()\n",
    "\n",
    "y_train = df_train['label'].values\n",
    "y_val = df_val['label'].values\n",
    "y_test = df_test['label'].values\n",
    "\n",
    "X_train_t = torch.tensor(vec_train, dtype=torch.float32)\n",
    "y_train_t = torch.tensor(y_train, dtype=torch.long)\n",
    "X_val_t = torch.tensor(vec_val, dtype=torch.float32)\n",
    "y_val_t = torch.tensor(y_val, dtype=torch.long)\n",
    "X_test_t = torch.tensor(vec_test, dtype=torch.float32)\n",
    "y_test_t = torch.tensor(y_test, dtype=torch.long)\n",
    "\n",
    "ds_train = TensorDataset(X_train_t, y_train_t)\n",
    "ds_val = TensorDataset(X_val_t, y_val_t)\n",
    "ds_test = TensorDataset(X_test_t, y_test_t)\n",
    "\n",
    "batch_size = 64\n",
    "train_loader = DataLoader(ds_train, batch_size=batch_size, shuffle=True)\n",
    "val_loader = DataLoader(ds_val, batch_size=batch_size, shuffle=False)\n",
    "test_loader = DataLoader(ds_test, batch_size=batch_size, shuffle=False)\n",
    "\n",
    "X_train_t.shape, X_val_t.shape, X_test_t.shape"
   ],
   "id": "2f4d149d0fcd9b0b",
   "outputs": [
    {
     "data": {
      "text/plain": [
       "(torch.Size([5535, 10000]),\n",
       " torch.Size([1384, 10000]),\n",
       " torch.Size([1820, 10000]))"
      ]
     },
     "execution_count": 3,
     "metadata": {},
     "output_type": "execute_result"
    }
   ],
   "execution_count": 3
  },
  {
   "metadata": {
    "ExecuteTime": {
     "end_time": "2025-04-20T13:20:36.812002Z",
     "start_time": "2025-04-20T13:20:36.791320Z"
    }
   },
   "cell_type": "code",
   "source": [
    "class MLP(nn.Module):\n",
    "    def __init__(self, in_dim=10000, out_dim=2):\n",
    "        super().__init__()\n",
    "        self.layers = nn.Sequential(\n",
    "            nn.Linear(in_dim, 512), nn.ReLU(), nn.Dropout(0.3),\n",
    "            nn.Linear(512, 256), nn.ReLU(), nn.Dropout(0.3),\n",
    "            nn.Linear(256, 128), nn.ReLU(), nn.Dropout(0.3),\n",
    "            nn.Linear(128, 64), nn.ReLU(), nn.Dropout(0.3),\n",
    "            nn.Linear(64, out_dim)\n",
    "        )\n",
    "\n",
    "    def forward(self, x):\n",
    "        return self.layers(x)\n",
    "\n",
    "\n",
    "model = MLP(in_dim=vec_train.shape[1], out_dim=2)\n",
    "params = sum(p.numel() for p in model.parameters() if p.requires_grad)\n",
    "print(f'Number of parameters: {params:}')"
   ],
   "id": "311069317fb8318",
   "outputs": [
    {
     "name": "stdout",
     "output_type": "stream",
     "text": [
      "Number of parameters: 5293122\n"
     ]
    }
   ],
   "execution_count": 4
  },
  {
   "metadata": {
    "ExecuteTime": {
     "end_time": "2025-04-20T13:20:40.182622Z",
     "start_time": "2025-04-20T13:20:36.840957Z"
    }
   },
   "cell_type": "code",
   "source": [
    "model.to(device)\n",
    "criterion = nn.CrossEntropyLoss()\n",
    "optimizer = optim.Adam(model.parameters(), lr=0.001)\n",
    "epochs = 10\n",
    "best_acc = 0\n",
    "ckpt_path = 'checkpoint.pt'\n",
    "history = {'train_loss': [], 'val_loss': [], 'train_acc': [], 'val_acc': []}\n",
    "\n",
    "for epoch in range(epochs):\n",
    "    model.train()\n",
    "    t_loss = t_ok = t_total = 0\n",
    "    for x, y in train_loader:\n",
    "        x, y = x.to(device), y.to(device)\n",
    "        optimizer.zero_grad()\n",
    "        out = model(x)\n",
    "        loss = criterion(out, y)\n",
    "        loss.backward()\n",
    "        optimizer.step()\n",
    "        t_loss += loss.item() * x.size(0)\n",
    "        _, pred = torch.max(out.data, 1)\n",
    "        t_total += y.size(0)\n",
    "        t_ok += (pred == y).sum().item()\n",
    "    history['train_loss'].append(t_loss / t_total)\n",
    "    history['train_acc'].append(t_ok / t_total)\n",
    "\n",
    "    model.eval()\n",
    "    v_loss, v_ok, v_total = 0, 0, 0\n",
    "    with torch.no_grad():\n",
    "        for x, y in val_loader:\n",
    "            x, y = x.to(device), y.to(device)\n",
    "            out = model(x)\n",
    "            loss = criterion(out, y)\n",
    "            v_loss += loss.item() * x.size(0)\n",
    "            _, pred = torch.max(out.data, 1)\n",
    "            v_total += y.size(0)\n",
    "            v_ok += (pred == y).sum().item()\n",
    "\n",
    "    val_acc = v_ok / v_total\n",
    "    history['val_loss'].append(v_loss / v_total)\n",
    "    history['val_acc'].append(val_acc)\n",
    "\n",
    "    print(f\"Epoch {epoch + 1}/{epochs} | Train Loss: {history['train_loss'][-1]:.4f} Acc: {history['train_acc'][-1]:.4f} | Val Loss: {history['val_loss'][-1]:.4f} Acc: {val_acc:.4f}\")\n",
    "\n",
    "    if val_acc > best_acc:\n",
    "        best_acc = val_acc\n",
    "        torch.save(model.state_dict(), ckpt_path)\n",
    "        print(f\"   -> Best Val Acc: {best_acc:.4f}. Model saved.\")"
   ],
   "id": "762a8ecb285ce848",
   "outputs": [
    {
     "name": "stdout",
     "output_type": "stream",
     "text": [
      "Epoch 1/10 | Train Loss: 0.5964 Acc: 0.6569 | Val Loss: 0.4852 Acc: 0.7681\n",
      "   -> Best Val Acc: 0.7681. Model saved.\n",
      "Epoch 2/10 | Train Loss: 0.2496 Acc: 0.9005 | Val Loss: 0.6146 Acc: 0.7710\n",
      "   -> Best Val Acc: 0.7710. Model saved.\n",
      "Epoch 3/10 | Train Loss: 0.0702 Acc: 0.9754 | Val Loss: 0.9111 Acc: 0.7695\n",
      "Epoch 4/10 | Train Loss: 0.0145 Acc: 0.9953 | Val Loss: 1.2623 Acc: 0.7645\n",
      "Epoch 5/10 | Train Loss: 0.0040 Acc: 0.9986 | Val Loss: 1.7793 Acc: 0.7652\n",
      "Epoch 6/10 | Train Loss: 0.0047 Acc: 0.9980 | Val Loss: 2.0632 Acc: 0.7464\n",
      "Epoch 7/10 | Train Loss: 0.0041 Acc: 0.9989 | Val Loss: 1.8563 Acc: 0.7601\n",
      "Epoch 8/10 | Train Loss: 0.0021 Acc: 0.9993 | Val Loss: 1.9374 Acc: 0.7767\n",
      "   -> Best Val Acc: 0.7767. Model saved.\n",
      "Epoch 9/10 | Train Loss: 0.0016 Acc: 0.9993 | Val Loss: 2.0614 Acc: 0.7731\n",
      "Epoch 10/10 | Train Loss: 0.0009 Acc: 0.9998 | Val Loss: 2.2095 Acc: 0.7710\n"
     ]
    }
   ],
   "execution_count": 5
  },
  {
   "metadata": {
    "ExecuteTime": {
     "end_time": "2025-04-20T13:20:40.364291Z",
     "start_time": "2025-04-20T13:20:40.228560Z"
    }
   },
   "cell_type": "code",
   "source": [
    "plt.figure(figsize=(10, 4))\n",
    "\n",
    "plt.subplot(1, 2, 1)\n",
    "plt.plot(range(1, epochs + 1), history['train_loss'], 'o-', label='Train')\n",
    "plt.plot(range(1, epochs + 1), history['val_loss'], 'o-', label='Val')\n",
    "plt.title('Loss')\n",
    "plt.xlabel('Epoch')\n",
    "plt.legend()\n",
    "plt.grid(True)\n",
    "\n",
    "plt.subplot(1, 2, 2)\n",
    "plt.plot(range(1, epochs + 1), history['train_acc'], 'o-', label='Train')\n",
    "plt.plot(range(1, epochs + 1), history['val_acc'], 'o-', label='Val')\n",
    "plt.title('Accuracy')\n",
    "plt.xlabel('Epoch')\n",
    "plt.legend()\n",
    "plt.grid(True)\n",
    "plt.tight_layout()\n",
    "plt.show()"
   ],
   "id": "b5932cd09555f2e7",
   "outputs": [
    {
     "data": {
      "text/plain": [
       "<Figure size 1000x400 with 2 Axes>"
      ],
      "image/png": "[encoded data removed]"
     },
     "metadata": {},
     "output_type": "display_data"
    }
   ],
   "execution_count": 6
  },
  {
   "metadata": {
    "ExecuteTime": {
     "end_time": "2025-04-20T13:20:40.380812Z",
     "start_time": "2025-04-20T13:20:40.378321Z"
    }
   },
   "cell_type": "code",
   "source": [
    "def test_model(model, loader, device, model_dtype='float'):\n",
    "    model.eval()\n",
    "    model.to(device)\n",
    "    correct, total = 0, 0\n",
    "    start_time = time.time()\n",
    "    with torch.no_grad():\n",
    "        for x, y in loader:\n",
    "            x, y = x.to(device), y.to(device)\n",
    "            if model_dtype == 'half':\n",
    "                x = x.half()\n",
    "            out = model(x)\n",
    "            if model_dtype == 'half':\n",
    "                out = out.float()\n",
    "            _, pred = torch.max(out.data, 1)\n",
    "            total += y.size(0)\n",
    "            correct += (pred == y).sum().item()\n",
    "    end_time = time.time()\n",
    "    acc = correct / total\n",
    "    infer_time_ms = (end_time - start_time) / total * 1000\n",
    "    return acc, infer_time_ms"
   ],
   "id": "aea973c39815ffef",
   "outputs": [],
   "execution_count": 7
  },
  {
   "metadata": {
    "ExecuteTime": {
     "end_time": "2025-04-20T13:20:40.423135Z",
     "start_time": "2025-04-20T13:20:40.420941Z"
    }
   },
   "cell_type": "code",
   "source": [
    "def get_size_mb(model, path=\"temp_size.pt\"):\n",
    "    if isinstance(model, torch.jit.ScriptModule):\n",
    "        torch.jit.save(model, path)\n",
    "    else:\n",
    "        torch.save(model.state_dict(), path)\n",
    "    size = os.path.getsize(path) / (1024 * 1024)\n",
    "    os.remove(path)\n",
    "    return size"
   ],
   "id": "28624986e640774d",
   "outputs": [],
   "execution_count": 8
  },
  {
   "metadata": {
    "ExecuteTime": {
     "end_time": "2025-04-20T13:20:40.534734Z",
     "start_time": "2025-04-20T13:20:40.465827Z"
    }
   },
   "cell_type": "code",
   "source": [
    "results = []\n",
    "in_features = vec_train.shape[1]\n",
    "cpu_device = torch.device(\"cpu\")\n",
    "\n",
    "model_fp32 = MLP(in_dim=in_features)\n",
    "model_fp32.load_state_dict(torch.load(ckpt_path, map_location=device))\n",
    "acc_fp32, time_fp32 = test_model(model_fp32, test_loader, device, 'float')\n",
    "size_fp32 = get_size_mb(model_fp32)\n",
    "results.append({'Model Name': 'Original FP32', 'Accuracy (%)': acc_fp32 * 100, 'Size (MB)': size_fp32, 'Inference (ms)': time_fp32})\n",
    "\n",
    "print(f\"FP32:\")\n",
    "print(f'Accuracy: {acc_fp32 * 100:.2f}%')\n",
    "print(f'Size: {size_fp32:.2f}MB')\n",
    "print(f'Inference Time: {time_fp32:.4f}ms')"
   ],
   "id": "3c6f00c4a9f5bcee",
   "outputs": [
    {
     "name": "stdout",
     "output_type": "stream",
     "text": [
      "FP32:\n",
      "Accuracy: 78.02%\n",
      "Size: 20.20MB\n",
      "Inference Time: 0.0128ms\n"
     ]
    }
   ],
   "execution_count": 9
  },
  {
   "metadata": {
    "ExecuteTime": {
     "end_time": "2025-04-20T13:20:40.691910Z",
     "start_time": "2025-04-20T13:20:40.548507Z"
    }
   },
   "cell_type": "code",
   "source": [
    "model_int8_base = MLP(in_dim=in_features)\n",
    "model_int8_base.load_state_dict(torch.load(ckpt_path, map_location=cpu_device))\n",
    "model_int8_base.eval()\n",
    "model_int8 = quantization.quantize_dynamic(model_int8_base, {nn.Linear}, dtype=torch.qint8)\n",
    "acc_int8, time_int8 = test_model(model_int8, test_loader, cpu_device, 'int8')\n",
    "\n",
    "size_int8 = get_size_mb(torch.jit.script(model_int8))\n",
    "results.append({'Model Name': 'Dynamic INT8', 'Accuracy (%)': acc_int8 * 100, 'Size (MB)': size_int8, 'Inference (ms)': time_int8})\n",
    "\n",
    "print(\"Dynamic INT8:\")\n",
    "print(f'Accuracy: {acc_int8 * 100:.2f}%')\n",
    "print(f'Size: {size_int8:.2f}MB')\n",
    "print(f'Inference Time: {time_int8:.4f}ms')"
   ],
   "id": "5eb2e3d16a182153",
   "outputs": [
    {
     "name": "stdout",
     "output_type": "stream",
     "text": [
      "Dynamic INT8:\n",
      "Accuracy: 77.97%\n",
      "Size: 5.07MB\n",
      "Inference Time: 0.0321ms\n"
     ]
    }
   ],
   "execution_count": 10
  },
  {
   "metadata": {
    "ExecuteTime": {
     "end_time": "2025-04-20T13:20:40.862476Z",
     "start_time": "2025-04-20T13:20:40.730793Z"
    }
   },
   "cell_type": "code",
   "source": [
    "model_fp16 = MLP(in_dim=in_features)\n",
    "model_fp16.load_state_dict(torch.load(ckpt_path, map_location=device))\n",
    "model_fp16 = model_fp16.half()\n",
    "model_fp16.eval()\n",
    "acc_fp16, time_fp16 = test_model(model_fp16, test_loader, device, 'half')\n",
    "size_fp16 = get_size_mb(model_fp16)\n",
    "results.append({'Model Name': 'Half FP16', 'Accuracy (%)': acc_fp16 * 100, 'Size (MB)': size_fp16, 'Inference (ms)': time_fp16})\n",
    "\n",
    "print(\"FP16:\")\n",
    "print(f'Accuracy: {acc_fp16 * 100:.2f}%')\n",
    "print(f'Size: {size_fp16:.2f}MB')\n",
    "print(f'Inference Time: {time_fp16:.4f}ms')"
   ],
   "id": "db13398ee64f7c20",
   "outputs": [
    {
     "name": "stdout",
     "output_type": "stream",
     "text": [
      "FP16:\n",
      "Accuracy: 78.02%\n",
      "Size: 10.10MB\n",
      "Inference Time: 0.0503ms\n"
     ]
    }
   ],
   "execution_count": 11
  },
  {
   "metadata": {
    "ExecuteTime": {
     "end_time": "2025-04-20T13:20:40.890256Z",
     "start_time": "2025-04-20T13:20:40.885316Z"
    }
   },
   "cell_type": "code",
   "source": [
    "df_results = pd.DataFrame(results)\n",
    "\n",
    "df_results['Accuracy (%)'] = df_results['Accuracy (%)'].map('{:.2f}'.format)\n",
    "df_results['Size (MB)'] = df_results['Size (MB)'].map('{:.2f}'.format)\n",
    "df_results['Inference (ms)'] = df_results['Inference (ms)'].map('{:.4f}'.format)\n",
    "\n",
    "display(df_results)"
   ],
   "id": "f16fd3e3b2aacab5",
   "outputs": [
    {
     "data": {
      "text/plain": [
       "      Model Name Accuracy (%) Size (MB) Inference (ms)\n",
       "0  Original FP32        78.02     20.20         0.0128\n",
       "1   Dynamic INT8        77.97      5.07         0.0321\n",
       "2      Half FP16        78.02     10.10         0.0503"
      ],
      "text/html": [
       "<div>\n",
       "<style scoped>\n",
       "    .dataframe tbody tr th:only-of-type {\n",
       "        vertical-align: middle;\n",
       "    }\n",
       "\n",
       "    .dataframe tbody tr th {\n",
       "        vertical-align: top;\n",
       "    }\n",
       "\n",
       "    .dataframe thead th {\n",
       "        text-align: right;\n",
       "    }\n",
       "</style>\n",
       "<table border=\"1\" class=\"dataframe\">\n",
       "  <thead>\n",
       "    <tr style=\"text-align: right;\">\n",
       "      <th></th>\n",
       "      <th>Model Name</th>\n",
       "      <th>Accuracy (%)</th>\n",
       "      <th>Size (MB)</th>\n",
       "      <th>Inference (ms)</th>\n",
       "    </tr>\n",
       "  </thead>\n",
       "  <tbody>\n",
       "    <tr>\n",
       "      <th>0</th>\n",
       "      <td>Original FP32</td>\n",
       "      <td>78.02</td>\n",
       "      <td>20.20</td>\n",
       "      <td>0.0128</td>\n",
       "    </tr>\n",
       "    <tr>\n",
       "      <th>1</th>\n",
       "      <td>Dynamic INT8</td>\n",
       "      <td>77.97</td>\n",
       "      <td>5.07</td>\n",
       "      <td>0.0321</td>\n",
       "    </tr>\n",
       "    <tr>\n",
       "      <th>2</th>\n",
       "      <td>Half FP16</td>\n",
       "      <td>78.02</td>\n",
       "      <td>10.10</td>\n",
       "      <td>0.0503</td>\n",
       "    </tr>\n",
       "  </tbody>\n",
       "</table>\n",
       "</div>"
      ]
     },
     "metadata": {},
     "output_type": "display_data"
    }
   ],
   "execution_count": 12
  }
 ],
 "metadata": {
  "kernelspec": {
   "display_name": "Python 3",
   "language": "python",
   "name": "python3"
  },
  "language_info": {
   "codemirror_mode": {
    "name": "ipython",
    "version": 2
   },
   "file_extension": ".py",
   "mimetype": "text/x-python",
   "name": "python",
   "nbconvert_exporter": "python",
   "pygments_lexer": "ipython2",
   "version": "2.7.6"
  }
 },
 "nbformat": 4,
 "nbformat_minor": 5
}
